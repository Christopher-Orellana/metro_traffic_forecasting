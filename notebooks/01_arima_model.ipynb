{
 "cells": [
  {
   "cell_type": "markdown",
   "id": "f17365b1-f462-4844-9ff0-283eefc6e2d3",
   "metadata": {},
   "source": [
    "### 1. Import libraries"
   ]
  },
  {
   "cell_type": "code",
   "execution_count": null,
   "id": "17fe45f1-ab66-4961-bf3e-20b9573efbfb",
   "metadata": {
    "scrolled": true
   },
   "outputs": [],
   "source": [
    "pip install pmdarima"
   ]
  },
  {
   "cell_type": "code",
   "execution_count": null,
   "id": "258c17c1-8aaa-44cc-84f4-8a59395abdf2",
   "metadata": {
    "scrolled": true
   },
   "outputs": [],
   "source": [
    "# Data Analysis\n",
    "import pandas as pd\n",
    "import numpy as np\n",
    "import matplotlib.pyplot as plt\n",
    "import seaborn as sns\n",
    "\n",
    "# Time seres\n",
    "from statsmodels.tsa.stattools import adfuller, acf, pacf, q_stat\n",
    "from statsmodels.graphics.tsaplots import plot_acf, plot_pacf\n",
    "from statsmodels.tsa.arima.model import ARIMA\n",
    "from statsmodels.stats.diagnostic import acorr_ljungbox\n",
    "from statsmodels.tsa.statespace.tools import diff\n",
    "\n",
    "# Model selection/Comparison\n",
    "from pmdarima import auto_arima\n",
    "from scipy.stats import boxcox\n",
    "from scipy.special import inv_boxcox\n",
    "\n",
    "# Metrics/Eval\n",
    "from sklearn.metrics import mean_squared_error, mean_absolute_error\n",
    "from statsmodels.tools.eval_measures import aic, bic\n",
    "import itertools"
   ]
  },
  {
   "cell_type": "markdown",
   "id": "c38f687e-4637-4a23-881a-f033a1d91e6b",
   "metadata": {},
   "source": [
    "### 2. Load and Inspect Data"
   ]
  },
  {
   "cell_type": "code",
   "execution_count": null,
   "id": "90e0469b-5f4e-4a05-bc1b-1e8f19145adc",
   "metadata": {},
   "outputs": [],
   "source": [
    "# Reading excel file into df\n",
    "raw_df = pd.read_excel('../data/Metro_Interstate_Traffic_Volume.xlsx')"
   ]
  },
  {
   "cell_type": "code",
   "execution_count": null,
   "id": "6fe489de-163c-4175-a668-964891ba2976",
   "metadata": {},
   "outputs": [],
   "source": [
    "# Selecting the variables for ARIMA forecasting\n",
    "df = raw_df[['traffic_volume', 'date_time']]"
   ]
  },
  {
   "cell_type": "code",
   "execution_count": null,
   "id": "ffd2fd65-6fa8-4d5b-9515-31d2e48228a5",
   "metadata": {},
   "outputs": [],
   "source": [
    "# Check for nulls and data types\n",
    "df.info()"
   ]
  },
  {
   "cell_type": "code",
   "execution_count": null,
   "id": "5e18cdfb-8431-4b20-aca8-f4796d3e8084",
   "metadata": {},
   "outputs": [],
   "source": [
    "# Generate basic statistics for variables\n",
    "df.describe()"
   ]
  },
  {
   "cell_type": "code",
   "execution_count": null,
   "id": "9ad5fcdd-4398-485d-842e-518cb570affb",
   "metadata": {
    "scrolled": true
   },
   "outputs": [],
   "source": [
    "# Check for duplicates\n",
    "mask = df.duplicated(subset=['date_time'], keep=False)\n",
    "dfmask = df[mask]"
   ]
  },
  {
   "cell_type": "code",
   "execution_count": null,
   "id": "1a8054b4-9d31-4089-9e06-0a71bfb754d1",
   "metadata": {
    "scrolled": true
   },
   "outputs": [],
   "source": [
    "# Show index of duplicates\n",
    "dfmask.head(20)"
   ]
  },
  {
   "cell_type": "code",
   "execution_count": null,
   "id": "f9179c2e-805c-408d-af50-3ecf8c66e808",
   "metadata": {
    "scrolled": true
   },
   "outputs": [],
   "source": [
    "df[170:300]"
   ]
  },
  {
   "cell_type": "code",
   "execution_count": null,
   "id": "12ddc4e5-d6db-4503-b1d4-dfe03c5588b8",
   "metadata": {},
   "outputs": [],
   "source": [
    "# Remove duplicates\n",
    "df = df.drop_duplicates(keep='first')"
   ]
  },
  {
   "cell_type": "code",
   "execution_count": null,
   "id": "3f056966-9d2b-4a17-bc8c-bfa888c430fc",
   "metadata": {
    "scrolled": true
   },
   "outputs": [],
   "source": [
    "# Around 8k duplicates removed\n",
    "df.info()"
   ]
  },
  {
   "cell_type": "markdown",
   "id": "4d5f2ec4-79c0-425b-80bc-978e5bd2ef6c",
   "metadata": {},
   "source": [
    "### 3. Exploratory Plots"
   ]
  },
  {
   "cell_type": "code",
   "execution_count": null,
   "id": "4278f0d4-3838-4199-9851-b9fdbb361da2",
   "metadata": {},
   "outputs": [],
   "source": [
    "# Plot traffic volume against time(year)\n",
    "plt.title(\"Traffic Volume over time(year)\")\n",
    "plt.scatter(df.date_time, df.traffic_volume, alpha=0.5, s=1)\n",
    "plt.xlabel('Time')\n",
    "plt.ylabel('Traffic Volume')\n",
    "plt.show()"
   ]
  },
  {
   "cell_type": "markdown",
   "id": "f2d6e8e3-98ae-4d38-b1ed-15c14df0c97a",
   "metadata": {},
   "source": [
    "We must take note of the missing data between the dates: 2014-08-08 01:00:00 to 2015-06-11 20:00:00\n",
    "\n",
    "10 months of missing data will impact the precision of our forecast. We may have to interpolate the missing months with the cost of added synthetic variance that may distort long-term forecasting or cut out and do our analysis on the longest continous block of data.\n",
    "\n",
    "Using the more recent continuous block of data (starting mid 2016) could be more informative for short-midterm forecasting and ensures more reliability within that scope."
   ]
  },
  {
   "cell_type": "code",
   "execution_count": null,
   "id": "d067ef6f-35f4-487b-a86d-a4ec0ba84ef2",
   "metadata": {},
   "outputs": [],
   "source": [
    "# Time must be the index for ARIMA modeling\n",
    "df = df.set_index('date_time')"
   ]
  },
  {
   "cell_type": "code",
   "execution_count": null,
   "id": "58e271f8-740f-43ff-991a-eec88621612f",
   "metadata": {
    "scrolled": true
   },
   "outputs": [],
   "source": [
    "df.head()"
   ]
  },
  {
   "cell_type": "code",
   "execution_count": null,
   "id": "bd85e30c-3ebf-48e6-ba8e-6b89176e3515",
   "metadata": {},
   "outputs": [],
   "source": [
    "# Shows annual seasonality\n",
    "df['month'] = df.index.month\n",
    "hourly_avg = df.groupby('month')['traffic_volume'].mean()\n",
    "hourly_avg.plot(kind='line', figsize=[8, 4], title='AVG traffic volume by Month')\n",
    "plt.xlabel('Monthly')\n",
    "plt.ylabel('Avg traffic volume')\n",
    "plt.show()"
   ]
  },
  {
   "cell_type": "code",
   "execution_count": null,
   "id": "a1b1f1c3-4bf8-4af1-9582-01f45749c07d",
   "metadata": {},
   "outputs": [],
   "source": [
    "# Shows variation cycle of traffic in a month\n",
    "df['daily'] = df.index.day\n",
    "hourly_avg = df.groupby('daily')['traffic_volume'].mean()\n",
    "hourly_avg.plot(kind='line', figsize=[8, 4], title='AVG traffic volume by Day of Month')\n",
    "plt.xlabel('Day of month')\n",
    "plt.ylabel('Avg traffic volume')\n",
    "plt.show()"
   ]
  },
  {
   "cell_type": "code",
   "execution_count": null,
   "id": "1cef722c-620b-447b-9242-98ac9639c7f8",
   "metadata": {},
   "outputs": [],
   "source": [
    "# Daily Rush Hour Cycle\n",
    "df['hour'] = df.index.hour\n",
    "hourly_avg = df.groupby('hour')['traffic_volume'].mean()\n",
    "hourly_avg.plot(kind='line', figsize=[8, 4], title='AVG traffic volume by Hour')\n",
    "plt.xlabel('Hour of day')\n",
    "plt.ylabel('Avg traffic volume')\n",
    "plt.show()"
   ]
  },
  {
   "cell_type": "markdown",
   "id": "12f8ca02-29d0-4176-9a3c-00f10db0e01c",
   "metadata": {},
   "source": [
    "### 4. Preprocessing"
   ]
  },
  {
   "cell_type": "code",
   "execution_count": null,
   "id": "ea9cca62-f07e-4d06-9cec-e5abcc03e659",
   "metadata": {
    "editable": true,
    "scrolled": true,
    "slideshow": {
     "slide_type": ""
    },
    "tags": []
   },
   "outputs": [],
   "source": [
    "# Find the months of discontinuity in the data\n",
    "df.head()"
   ]
  },
  {
   "cell_type": "code",
   "execution_count": null,
   "id": "00000728-7889-4953-8487-5cad2738b8f8",
   "metadata": {},
   "outputs": [],
   "source": [
    "# Use the continuous block of data\n",
    "df_clean = df.loc['2015-06-11 20:00:00':]"
   ]
  },
  {
   "cell_type": "code",
   "execution_count": null,
   "id": "96b1523c-67f7-4d52-a135-4e80895a2d0e",
   "metadata": {},
   "outputs": [],
   "source": [
    "# Around half of the data points were cut, we will focu our forecasting on hourly/daily\n",
    "df_clean.info()"
   ]
  },
  {
   "cell_type": "code",
   "execution_count": null,
   "id": "ee47c597-8fc8-4ce7-8d28-3b5f5ad831e7",
   "metadata": {},
   "outputs": [],
   "source": [
    "df_clean = df_clean.asfreq('H')\n",
    "df_clean['traffic_volume'].isna().sum()"
   ]
  },
  {
   "cell_type": "code",
   "execution_count": null,
   "id": "7bbb8675-0077-443d-bff5-0498ae268760",
   "metadata": {
    "scrolled": true
   },
   "outputs": [],
   "source": [
    "df_clean['missing'] = df_clean['traffic_volume'].isna()\n",
    "df_clean['gap'] = df_clean['missing'].astype(int).diff().ne(0).cumsum()\n",
    "gap_lengths = df_clean.groupby('gap')['missing'].sum()\n",
    "gap_lengths[gap_lengths > 0].sort_values(ascending=False)"
   ]
  },
  {
   "cell_type": "code",
   "execution_count": null,
   "id": "bb510b1c-98ec-4f44-b5a7-f48b9361b38e",
   "metadata": {},
   "outputs": [],
   "source": [
    "# Identify and get rid of gaps longer than 24 hours\n",
    "long_gaps = gap_lengths[gap_lengths > 24].index\n",
    "\n",
    "for g in long_gaps:\n",
    "    df_clean.loc[df_clean['gap'] == g, 'traffic_volume'] = np.nan\n",
    "\n",
    "# interpolate short gaps\n",
    "df_clean['traffic_volume'] = df_clean['traffic_volume'].interpolate(limit=12, limit_direction='both')"
   ]
  },
  {
   "cell_type": "code",
   "execution_count": null,
   "id": "638188d5-b3a3-4252-a98a-5052c881e9a2",
   "metadata": {},
   "outputs": [],
   "source": [
    "df_clean.head()"
   ]
  },
  {
   "cell_type": "code",
   "execution_count": null,
   "id": "22507136-94fa-4896-9df1-ba56bf9733b5",
   "metadata": {},
   "outputs": [],
   "source": [
    "# Get rid of EDA variables to prepare for modeling\n",
    "df_clean = df_clean[['traffic_volume']]"
   ]
  },
  {
   "cell_type": "code",
   "execution_count": null,
   "id": "5b5d36d7-e081-420c-8f2a-e244b4222955",
   "metadata": {},
   "outputs": [],
   "source": [
    "df_clean.info()"
   ]
  },
  {
   "cell_type": "code",
   "execution_count": null,
   "id": "384c7c53-768b-4c95-ba2c-dbc2a4d132f9",
   "metadata": {},
   "outputs": [],
   "source": [
    "df_clean.isna().sum()"
   ]
  },
  {
   "cell_type": "code",
   "execution_count": null,
   "id": "8368ff7e-7099-4c3e-8ba3-704355d1a12a",
   "metadata": {},
   "outputs": [],
   "source": [
    "# discard nulls that were not interpolated within the 12 hour limit\n",
    "df_clean = df_clean.dropna(subset='traffic_volume')"
   ]
  },
  {
   "cell_type": "code",
   "execution_count": null,
   "id": "e6e0f5c1-40e3-4f57-8e4e-034da61abcf8",
   "metadata": {},
   "outputs": [],
   "source": [
    "# check all null values were dealt with\n",
    "df_clean.isna().sum()"
   ]
  },
  {
   "cell_type": "code",
   "execution_count": null,
   "id": "b85f7aa7-36c2-4b60-974b-cababc6106c1",
   "metadata": {},
   "outputs": [],
   "source": [
    "# Confirm we have only an hourly frequency\n",
    "df_clean.index.diff().value_counts().head()"
   ]
  },
  {
   "cell_type": "code",
   "execution_count": null,
   "id": "532c02d5-3c37-4480-bc5f-3a052c5b097e",
   "metadata": {},
   "outputs": [],
   "source": [
    "# Reinforce Frequency and interpolate the few remaining points\n",
    "df_clean = df_clean.asfreq('H')\n",
    "df_clean['traffic_volume'] = df_clean['traffic_volume'].interpolate(method='time')"
   ]
  },
  {
   "cell_type": "code",
   "execution_count": null,
   "id": "e401e7a9-a11a-483a-af98-68674c000fb5",
   "metadata": {},
   "outputs": [],
   "source": [
    "# Check interpolation worked\n",
    "df_clean.index.diff().value_counts().head()"
   ]
  },
  {
   "cell_type": "code",
   "execution_count": null,
   "id": "037f3e61-32d3-4579-b962-d10a5be91b80",
   "metadata": {},
   "outputs": [],
   "source": [
    "# Basic Stats check\n",
    "df_clean.describe()"
   ]
  },
  {
   "cell_type": "code",
   "execution_count": null,
   "id": "d4558481-a263-49c6-8a02-13105679b371",
   "metadata": {},
   "outputs": [],
   "source": [
    "# Check for outliers\n",
    "df_clean['traffic_volume'].plot.box()"
   ]
  },
  {
   "cell_type": "markdown",
   "id": "6588efbf-e0e7-4d35-9b95-e5c637320f3b",
   "metadata": {
    "jp-MarkdownHeadingCollapsed": true
   },
   "source": [
    "### 5. Check Stationarity"
   ]
  },
  {
   "cell_type": "markdown",
   "id": "425e5e1f-058a-44a7-95fc-036901a92882",
   "metadata": {
    "jp-MarkdownHeadingCollapsed": true
   },
   "source": [
    "### 6. ACF/PACF Analysis"
   ]
  },
  {
   "cell_type": "markdown",
   "id": "ff12f46c-2a10-43ca-88dd-538b63a7c7a5",
   "metadata": {
    "jp-MarkdownHeadingCollapsed": true
   },
   "source": [
    "### 7. Fit ARIMA Model"
   ]
  },
  {
   "cell_type": "markdown",
   "id": "beae7345-3b4e-4394-b3f4-e256a2c1eb2f",
   "metadata": {},
   "source": [
    "### 8. Forecast"
   ]
  },
  {
   "cell_type": "markdown",
   "id": "ec38cab9-f4b7-4353-8306-ff6e4ef82ef1",
   "metadata": {
    "jp-MarkdownHeadingCollapsed": true
   },
   "source": [
    "### 9. Evaluation"
   ]
  }
 ],
 "metadata": {
  "kernelspec": {
   "display_name": "Python 3 (ipykernel)",
   "language": "python",
   "name": "python3"
  },
  "language_info": {
   "codemirror_mode": {
    "name": "ipython",
    "version": 3
   },
   "file_extension": ".py",
   "mimetype": "text/x-python",
   "name": "python",
   "nbconvert_exporter": "python",
   "pygments_lexer": "ipython3",
   "version": "3.12.7"
  }
 },
 "nbformat": 4,
 "nbformat_minor": 5
}
