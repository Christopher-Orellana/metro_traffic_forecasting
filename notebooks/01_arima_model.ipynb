{
 "cells": [
  {
   "cell_type": "markdown",
   "id": "f17365b1-f462-4844-9ff0-283eefc6e2d3",
   "metadata": {
    "jp-MarkdownHeadingCollapsed": true
   },
   "source": [
    "### 1. Import libraries"
   ]
  },
  {
   "cell_type": "markdown",
   "id": "c38f687e-4637-4a23-881a-f033a1d91e6b",
   "metadata": {
    "jp-MarkdownHeadingCollapsed": true
   },
   "source": [
    "### 2. Load and Inspect Data"
   ]
  },
  {
   "cell_type": "markdown",
   "id": "12f8ca02-29d0-4176-9a3c-00f10db0e01c",
   "metadata": {
    "jp-MarkdownHeadingCollapsed": true
   },
   "source": [
    "### 3. Preprocessing"
   ]
  },
  {
   "cell_type": "markdown",
   "id": "4d5f2ec4-79c0-425b-80bc-978e5bd2ef6c",
   "metadata": {
    "jp-MarkdownHeadingCollapsed": true
   },
   "source": [
    "### 4. Exploratory Plots"
   ]
  },
  {
   "cell_type": "markdown",
   "id": "6588efbf-e0e7-4d35-9b95-e5c637320f3b",
   "metadata": {
    "jp-MarkdownHeadingCollapsed": true
   },
   "source": [
    "### 5. Check Stationarity"
   ]
  },
  {
   "cell_type": "markdown",
   "id": "425e5e1f-058a-44a7-95fc-036901a92882",
   "metadata": {
    "jp-MarkdownHeadingCollapsed": true
   },
   "source": [
    "### 6. ACF/PACF Analysis"
   ]
  },
  {
   "cell_type": "markdown",
   "id": "ff12f46c-2a10-43ca-88dd-538b63a7c7a5",
   "metadata": {
    "jp-MarkdownHeadingCollapsed": true
   },
   "source": [
    "### 7. Fit ARIMA Model"
   ]
  },
  {
   "cell_type": "markdown",
   "id": "beae7345-3b4e-4394-b3f4-e256a2c1eb2f",
   "metadata": {},
   "source": [
    "### 8. Forecast"
   ]
  },
  {
   "cell_type": "markdown",
   "id": "ec38cab9-f4b7-4353-8306-ff6e4ef82ef1",
   "metadata": {
    "jp-MarkdownHeadingCollapsed": true
   },
   "source": [
    "### 9. Evaluation"
   ]
  }
 ],
 "metadata": {
  "kernelspec": {
   "display_name": "Python 3 (ipykernel)",
   "language": "python",
   "name": "python3"
  },
  "language_info": {
   "codemirror_mode": {
    "name": "ipython",
    "version": 3
   },
   "file_extension": ".py",
   "mimetype": "text/x-python",
   "name": "python",
   "nbconvert_exporter": "python",
   "pygments_lexer": "ipython3",
   "version": "3.12.7"
  }
 },
 "nbformat": 4,
 "nbformat_minor": 5
}
